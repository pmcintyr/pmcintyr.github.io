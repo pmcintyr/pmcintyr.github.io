{
 "cells": [
  {
   "cell_type": "code",
   "execution_count": 2,
   "id": "90797d9c",
   "metadata": {},
   "outputs": [],
   "source": [
    "import os\n",
    "import pandas as pd\n",
    "\n",
    "# Create an empty dictionary to store the counts of each value\n",
    "value_counts = {}\n",
    "\n",
    "# Define the folder path\n",
    "folder_path = 'c:/Users/pmcintyr/Desktop/MA3/SHS/pmcintyr.github.io/recensements'\n",
    "\n",
    "# Iterate through each file in the folder\n",
    "for filename in os.listdir(folder_path):\n",
    "    if filename.endswith(\".xlsx\"):\n",
    "        file_path = os.path.join(folder_path, filename)\n",
    "        # Read the Excel file\n",
    "        df = pd.read_excel(file_path)\n",
    "        # Get the second column\n",
    "        column_values = df.iloc[:, 1]\n",
    "        # Count the occurrences of each value in the second column\n",
    "        for value in column_values:\n",
    "            if value in value_counts:\n",
    "                value_counts[value] += 1\n",
    "            else:\n",
    "                value_counts[value] = 1\n",
    "\n",
    "# Convert the dictionary to a pandas DataFrame\n",
    "result_df = pd.DataFrame(list(value_counts.items()), columns=['Value', 'Count'])\n",
    "\n",
    "# Sort the DataFrame by the 'Count' column in descending order\n",
    "result_df = result_df.sort_values('Count', ascending=False)\n",
    "\n",
    "#print(result_df[0:100])\n",
    "\n",
    "# Save the DataFrame to a CSV file\n",
    "result_df.to_csv(\"task1.csv\", index=False)"
   ]
  },
  {
   "cell_type": "code",
   "execution_count": 3,
   "id": "54e54426",
   "metadata": {},
   "outputs": [],
   "source": [
    "# Values to filter out\n",
    "values_to_filter = [\"pre\",\"martherey\",\"st jean\",\"laurent\",\"de bourg\",\"francois\",\"annee de naissance\",\"pierre\",\"rue du pont\",\"chauerau\",\"chailly\",\"marteray\",\"fre\",\"halle\",\"jn francois\",\"derriere\",\"id id\",\"laurens\",\"grand s jean\",\"grand jean\",\"devant\",\"cheneau\",\"cile de vant\",\"st laurens\",\"et\",\"cile derriere\",\"du marche\",\"patud\",\"francoise\",\"gd st jean\",\"hallede st laurent\",\"haurent\",\"grand fs jean\",\"st laur\",\"d halle\",\"walle\",\"jn jean\",\"grand\",\"paud\",\"frand chene\",\"cite derrier\",\"moulins de pepinet\",\"rue de martheray\",\"cheneau bourg\",\"marthony\",\"marthorey\",\"jennes\",\"grand f jean\",\"salud\",\"de francois\",\"du sont\",\"cuchy\",\"sejan\",\"place t laurent\",\"le pont\",\"duz re\",\"montee de st laurent\",\"marthe\",\"chemin de bourg\",\"place du pont\",\"marthery\",\"f pierre\",\"martherey e\",\"dre\",\"de pierre\",\"la barre\",\"grand fr jean\",\"d etienne\",\"valud\",\"st fran\",\"chavanne\",\"ft pierre\",\"grand sn jean\",\"aisse\",\"cite devriere\",\"id .\",\"luite dri\",\"no de leur recepisse\",\"cile derrier\",\"flaurent\",\"della barre\",\"mererie\",\"halle de laurent\",\"du re\",\"chaucrau .\",\"l walle\",\"marthere\",\"theneau de bourg\",\"e aisse\",\"rue de francois\",\"cete derriere\",\"no des\",\"pennes\",\"marthoray\",\"etienne\",\"marberay\",\"st laurant\",\"cite derric\",\"ctraz\",\"chaucraie\",\"bourge\",\"ste pierre\",\"theneau bourg\",\"halle de s laurt\",\"slaurent\",\"petit gjean\",\"montee de st monte\",\"lite de vans\",\"l hopital\",\"rue du pre\",\"de mercerie\",\"pont\",\"monorier\",\"nerie\",\"no es\",\"monte st laurent\",\"uve\",\"grangeneuve\",\"sdu\",\"dean\",\"ler\",\"luchy\",\"de st laurent\",\"no de\",\"grand sjean\",\"tre\",\"cite dessons\",\"monbe clauron\"]\n",
    "\n",
    "# Filtering out specific values\n",
    "result_df_filtered = result_df[~result_df['Value'].isin(values_to_filter)]\n",
    "\n",
    "#take top 100\n",
    "sort = result_df_filtered.sort_values('Count', ascending=False)[0:100]\n",
    "\n",
    "# Save the DataFrame to a CSV file\n",
    "sort.to_csv(\"task1.csv\", index=False)"
   ]
  },
  {
   "cell_type": "code",
   "execution_count": null,
   "id": "d064d16f",
   "metadata": {},
   "outputs": [],
   "source": []
  }
 ],
 "metadata": {
  "kernelspec": {
   "display_name": "Python 3 (ipykernel)",
   "language": "python",
   "name": "python3"
  },
  "language_info": {
   "codemirror_mode": {
    "name": "ipython",
    "version": 3
   },
   "file_extension": ".py",
   "mimetype": "text/x-python",
   "name": "python",
   "nbconvert_exporter": "python",
   "pygments_lexer": "ipython3",
   "version": "3.10.9"
  }
 },
 "nbformat": 4,
 "nbformat_minor": 5
}
